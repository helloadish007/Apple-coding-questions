{
 "cells": [
  {
   "cell_type": "code",
   "execution_count": 3,
   "metadata": {},
   "outputs": [],
   "source": [
    "v= [3,12,126,44,52,57,144,61,68,72,122]\n"
   ]
  },
  {
   "cell_type": "code",
   "execution_count": 12,
   "metadata": {},
   "outputs": [],
   "source": [
    "def min_distance(v):\n",
    "    v.sort()\n",
    "    min_abs=float('inf')\n",
    "    for i in range(len(v)-1):\n",
    "        current_abs=abs(v[i+1]-v[i])\n",
    "        if current_abs<min_abs:\n",
    "            min_abs=current_abs\n",
    "    print(min_abs)\n",
    "    for i in range(len(v)-1):\n",
    "        current_abs=abs(v[i+1]-v[i])\n",
    "        if current_abs==min_abs:\n",
    "            print((v[i+1],v[i]))\n"
   ]
  },
  {
   "cell_type": "code",
   "execution_count": 13,
   "metadata": {},
   "outputs": [
    {
     "name": "stdout",
     "output_type": "stream",
     "text": [
      "4\n",
      "(61, 57)\n",
      "(72, 68)\n",
      "(126, 122)\n"
     ]
    }
   ],
   "source": [
    "min_distance(v)"
   ]
  },
  {
   "cell_type": "code",
   "execution_count": 14,
   "metadata": {},
   "outputs": [
    {
     "data": {
      "text/plain": [
       "[3, 12, 44, 52, 57, 61, 68, 72, 122, 126, 144]"
      ]
     },
     "execution_count": 14,
     "metadata": {},
     "output_type": "execute_result"
    }
   ],
   "source": [
    "v"
   ]
  },
  {
   "cell_type": "code",
   "execution_count": 18,
   "metadata": {},
   "outputs": [
    {
     "data": {
      "text/plain": [
       "10"
      ]
     },
     "execution_count": 18,
     "metadata": {},
     "output_type": "execute_result"
    }
   ],
   "source": [
    "v.index(144)"
   ]
  },
  {
   "cell_type": "markdown",
   "metadata": {},
   "source": [
    "1. Two Sum\n",
    "\n",
    "Given an array of integers nums and an integer target, return indices of the two numbers such that they add up to target.\n",
    "\n",
    "You may assume that each input would have exactly one solution, and you may not use the same element twice.\n",
    "\n",
    "You can return the answer in any order.\n",
    "\n",
    " \n",
    "\n",
    "Example 1:\n",
    "\n",
    "Input: nums = [2,7,11,15], target = 9\n",
    "Output: [0,1]\n",
    "Explanation: Because nums[0] + nums[1] == 9, we return [0, 1].\n",
    "Example 2:\n",
    "\n",
    "Input: nums = [3,2,4], target = 6\n",
    "Output: [1,2]\n",
    "Example 3:\n",
    "\n",
    "Input: nums = [3,3], target = 6\n",
    "Output: [0,1]\n",
    " \n",
    "\n",
    "Constraints:\n",
    "\n",
    "2 <= nums.length <= 104\n",
    "-109 <= nums[i] <= 109\n",
    "-109 <= target <= 109\n",
    "Only one valid answer exists."
   ]
  },
  {
   "cell_type": "code",
   "execution_count": 45,
   "metadata": {},
   "outputs": [],
   "source": [
    "def twoSum( nums, target):\n",
    "        first=0\n",
    "        last=len(nums)-1\n",
    "        temp=nums\n",
    "        print(temp)\n",
    "        nums.sort()\n",
    "        print(nums)\n",
    "        print(temp)\n",
    "        while first < last:\n",
    "            if nums[first]+nums[last]==target:\n",
    "                print(nums[first],nums[last])\n",
    "                result=[]\n",
    "                for i,v in enumerate(temp):\n",
    "                    if v==nums[first]:\n",
    "                        result.append(i)\n",
    "                    if v==nums[last]:\n",
    "                        result.append(i) \n",
    "                first_index=[i for i,v in enumerate(temp) if v==nums[first]]\n",
    "                second_index=[i for i,v in enumerate(temp) if v==nums[last]]\n",
    "                print([first_index,second_index])\n",
    "                return list(set(result))\n",
    "                #return [temp.index(nums[first]),temp.index(nums[last])]\n",
    "            elif nums[first]+nums[last]<target:\n",
    "                first+=1\n",
    "            elif nums[first]+nums[last]>target:\n",
    "                last-=1"
   ]
  },
  {
   "cell_type": "code",
   "execution_count": 47,
   "metadata": {},
   "outputs": [
    {
     "name": "stdout",
     "output_type": "stream",
     "text": [
      "[2, 7, 11, 15]\n",
      "[2, 7, 11, 15]\n",
      "[2, 7, 11, 15]\n",
      "2 7\n",
      "[[0], [1]]\n"
     ]
    },
    {
     "data": {
      "text/plain": [
       "[0, 1]"
      ]
     },
     "execution_count": 47,
     "metadata": {},
     "output_type": "execute_result"
    }
   ],
   "source": [
    "twoSum(nums =[2,7,11,15],target=9)"
   ]
  },
  {
   "cell_type": "code",
   "execution_count": 48,
   "metadata": {},
   "outputs": [],
   "source": [
    "l=[1,2,3]"
   ]
  },
  {
   "cell_type": "code",
   "execution_count": 50,
   "metadata": {},
   "outputs": [
    {
     "name": "stdout",
     "output_type": "stream",
     "text": [
      "1 [2, 3]\n",
      "2 [3]\n"
     ]
    }
   ],
   "source": [
    "for i in range(len(l)-1):\n",
    "    print(l[i],l[i+1:])"
   ]
  },
  {
   "cell_type": "code",
   "execution_count": null,
   "metadata": {},
   "outputs": [],
   "source": [
    "class Solution:\n",
    "    def twoSum(self, nums: List[int], target: int) -> List[int]:\n",
    "        first=0\n",
    "        last=len(nums)-1\n",
    "        temp=nums[:]\n",
    "        nums.sort()\n",
    "        while first < last:\n",
    "            if nums[first]+nums[last]==target:\n",
    "                result=[]\n",
    "                for i,v in enumerate(temp):\n",
    "                    if v==nums[first]:\n",
    "                        result.append(i)\n",
    "                    if v==nums[last]:\n",
    "                        result.append(i) \n",
    "                return list(set(result))\n",
    "            elif nums[first]+nums[last]<target:\n",
    "                first+=1\n",
    "            elif nums[first]+nums[last]>target:\n",
    "                last-=1\n",
    "    "
   ]
  },
  {
   "cell_type": "markdown",
   "metadata": {},
   "source": [
    "2. Best Time to Buy and Sell Stock\n",
    "\n",
    "You are given an array prices where prices[i] is the price of a given stock on the ith day.\n",
    "\n",
    "You want to maximize your profit by choosing a single day to buy one stock and choosing a different day in the future to sell that stock.\n",
    "\n",
    "Return the maximum profit you can achieve from this transaction. If you cannot achieve any profit, return 0.\n",
    "\n",
    " \n",
    "\n",
    "Example 1:\n",
    "\n",
    "Input: prices = [7,1,5,3,6,4]\n",
    "Output: 5\n",
    "Explanation: Buy on day 2 (price = 1) and sell on day 5 (price = 6), profit = 6-1 = 5.\n",
    "Note that buying on day 2 and selling on day 1 is not allowed because you must buy before you sell.\n",
    "Example 2:\n",
    "\n",
    "Input: prices = [7,6,4,3,1]\n",
    "Output: 0\n",
    "Explanation: In this case, no transactions are done and the max profit = 0.\n",
    " \n",
    "\n",
    "Constraints:\n",
    "\n",
    "1 <= prices.length <= 105\n",
    "0 <= prices[i] <= 104"
   ]
  },
  {
   "cell_type": "code",
   "execution_count": 51,
   "metadata": {},
   "outputs": [],
   "source": [
    "def maxProfit(prices):\n",
    "        maxprofit=0\n",
    "        for i in range(len(prices)-1):\n",
    "            difference=max(prices[i+1:])-prices[i]\n",
    "            if difference>maxprofit:\n",
    "                maxprofit=difference\n",
    "        return maxprofit\n",
    "\n",
    "## as timecomplexity was o(n**2) - run time error occured"
   ]
  },
  {
   "cell_type": "code",
   "execution_count": null,
   "metadata": {},
   "outputs": [],
   "source": [
    "def maxProfit(prices):\n",
    "        min_price=float('inf')\n",
    "        maxprofit=0\n",
    "\n",
    "        for price in prices:\n",
    "            if price<min_price:\n",
    "                min_price=price\n",
    "            profit=price-min_price\n",
    "            if profit>maxprofit:\n",
    "                maxprofit=profit\n",
    "        return maxprofit\n",
    "\n",
    "# time complexity : o(n)"
   ]
  }
 ],
 "metadata": {
  "kernelspec": {
   "display_name": "Python 3",
   "language": "python",
   "name": "python3"
  },
  "language_info": {
   "codemirror_mode": {
    "name": "ipython",
    "version": 3
   },
   "file_extension": ".py",
   "mimetype": "text/x-python",
   "name": "python",
   "nbconvert_exporter": "python",
   "pygments_lexer": "ipython3",
   "version": "3.11.9"
  }
 },
 "nbformat": 4,
 "nbformat_minor": 2
}
